{
 "cells": [
  {
   "cell_type": "markdown",
   "metadata": {},
   "source": [
    "### 使用pickle序列化numpy array"
   ]
  },
  {
   "cell_type": "code",
   "execution_count": 1,
   "metadata": {},
   "outputs": [],
   "source": [
    "import pickle\n",
    "import numpy as np"
   ]
  },
  {
   "cell_type": "code",
   "execution_count": 2,
   "metadata": {},
   "outputs": [],
   "source": [
    "x = np.arange(10)"
   ]
  },
  {
   "cell_type": "code",
   "execution_count": 4,
   "metadata": {},
   "outputs": [
    {
     "data": {
      "text/plain": [
       "array([0, 1, 2, 3, 4, 5, 6, 7, 8, 9])"
      ]
     },
     "execution_count": 4,
     "metadata": {},
     "output_type": "execute_result"
    }
   ],
   "source": [
    "x"
   ]
  },
  {
   "cell_type": "code",
   "execution_count": 6,
   "metadata": {},
   "outputs": [],
   "source": [
    "f = open('x.pkl', 'wb')"
   ]
  },
  {
   "cell_type": "code",
   "execution_count": 15,
   "metadata": {},
   "outputs": [],
   "source": [
    "pickle.dump(x, f)"
   ]
  },
  {
   "cell_type": "code",
   "execution_count": 17,
   "metadata": {},
   "outputs": [
    {
     "name": "stderr",
     "output_type": "stream",
     "text": [
      "'ls' 不是内部或外部命令，也不是可运行的程序\n",
      "或批处理文件。\n"
     ]
    }
   ],
   "source": [
    "!ls"
   ]
  },
  {
   "cell_type": "code",
   "execution_count": 18,
   "metadata": {},
   "outputs": [],
   "source": [
    "f = open('x.pkl', 'rb')"
   ]
  },
  {
   "cell_type": "code",
   "execution_count": 21,
   "metadata": {},
   "outputs": [
    {
     "data": {
      "text/plain": [
       "array([0, 1, 2, 3, 4, 5, 6, 7, 8, 9])"
      ]
     },
     "execution_count": 21,
     "metadata": {},
     "output_type": "execute_result"
    }
   ],
   "source": [
    "pickle.load(f)"
   ]
  },
  {
   "cell_type": "code",
   "execution_count": 23,
   "metadata": {},
   "outputs": [],
   "source": [
    "# save方法\n",
    "np.save('one_array', x)"
   ]
  },
  {
   "cell_type": "code",
   "execution_count": 26,
   "metadata": {},
   "outputs": [
    {
     "name": "stdout",
     "output_type": "stream",
     "text": [
      " 驱动器 C 中的卷没有标签。\n",
      " 卷的序列号是 3EE8-D32E\n",
      "\n",
      " C:\\Users\\jiangyanfei 的目录\n",
      "\n",
      "2018/11/20  17:19    <DIR>          .\n",
      "2018/11/20  17:19    <DIR>          ..\n",
      "2018/09/05  09:02    <DIR>          .android\n",
      "2018/07/19  15:18    <DIR>          .astropy\n",
      "2018/11/15  18:56             5,005 .bash_history\n",
      "2018/09/27  10:36    <DIR>          .config\n",
      "2018/08/01  11:07                53 .gitconfig\n",
      "2018/07/24  13:42    <DIR>          .idlerc\n",
      "2018/08/16  17:38    <DIR>          .IntelliJIdea2018.2\n",
      "2018/11/20  17:13    <DIR>          .ipynb_checkpoints\n",
      "2018/11/20  14:18    <DIR>          .ipython\n",
      "2018/11/20  17:17    <DIR>          .jupyter\n",
      "2018/07/18  09:47    <DIR>          .m2\n",
      "2018/07/23  14:13    <DIR>          .matplotlib\n",
      "2018/07/31  10:26    <DIR>          .mume\n",
      "2018/09/27  10:35                84 .node_repl_history\n",
      "2018/07/18  09:42    <DIR>          .oracle_jre_usage\n",
      "2018/07/26  10:26    <DIR>          .PyCharm2018.2\n",
      "2018/09/15  17:48    <DIR>          .pylint.d\n",
      "2018/07/25  08:54    <DIR>          .quokka\n",
      "2018/10/23  18:15    <DIR>          .ssh\n",
      "2018/11/01  16:45    <DIR>          .tooling\n",
      "2018/07/18  09:55    <DIR>          .vscode\n",
      "2018/10/23  18:28    <DIR>          .vue-templates\n",
      "2018/09/27  10:55    <DIR>          .WebStorm2018.2\n",
      "2018/11/16  08:43    <DIR>          3D Objects\n",
      "2018/07/19  13:13    <DIR>          Anaconda3\n",
      "2018/08/14  16:18    <DIR>          AppData\n",
      "2018/11/20  15:52             8,926 Array.ipynb\n",
      "2018/11/20  17:19             2,770 Array的input和output.ipynb\n",
      "2018/11/16  08:43    <DIR>          Contacts\n",
      "2018/11/20  11:51    <DIR>          Desktop\n",
      "2018/11/16  08:43    <DIR>          Documents\n",
      "2018/11/16  08:43    <DIR>          Downloads\n",
      "2018/11/16  08:43    <DIR>          Favorites\n",
      "2018/08/30  12:23            45,473 Figure_1-1.png\n",
      "2018/07/19  13:26            69,905 Figure_1.png\n",
      "2018/10/11  16:44    <DIR>          HBuilder\n",
      "2018/10/11  16:56    <DIR>          HBuilder settings\n",
      "2018/11/16  08:43    <DIR>          Links\n",
      "2018/11/16  08:43    <DIR>          Music\n",
      "2018/11/14  08:49    <DIR>          OneDrive\n",
      "2018/11/20  17:19               168 one_array.npy\n",
      "2018/11/16  08:43    <DIR>          Pictures\n",
      "2018/11/16  08:43    <DIR>          Saved Games\n",
      "2018/11/16  08:43    <DIR>          Searches\n",
      "2018/09/27  11:11    <DIR>          sell\n",
      "2018/10/16  11:14    <DIR>          todolist\n",
      "2018/11/16  08:43    <DIR>          Videos\n",
      "2018/11/20  17:17               585 x.pkl\n",
      "2018/11/20  17:13            13,983 数组与矩阵计算.ipynb\n",
      "              10 个文件        146,952 字节\n",
      "              41 个目录 118,548,766,720 可用字节\n"
     ]
    }
   ],
   "source": [
    "# windows下采用该命令\n",
    "!dir"
   ]
  },
  {
   "cell_type": "code",
   "execution_count": 28,
   "metadata": {},
   "outputs": [
    {
     "data": {
      "text/plain": [
       "array([0, 1, 2, 3, 4, 5, 6, 7, 8, 9])"
      ]
     },
     "execution_count": 28,
     "metadata": {},
     "output_type": "execute_result"
    }
   ],
   "source": [
    "# 读取\n",
    "np.load('one_array.npy')"
   ]
  },
  {
   "cell_type": "code",
   "execution_count": 31,
   "metadata": {},
   "outputs": [],
   "source": [
    "y = np.arange(20)"
   ]
  },
  {
   "cell_type": "code",
   "execution_count": 33,
   "metadata": {},
   "outputs": [
    {
     "data": {
      "text/plain": [
       "array([ 0,  1,  2,  3,  4,  5,  6,  7,  8,  9, 10, 11, 12, 13, 14, 15, 16,\n",
       "       17, 18, 19])"
      ]
     },
     "execution_count": 33,
     "metadata": {},
     "output_type": "execute_result"
    }
   ],
   "source": [
    "y"
   ]
  },
  {
   "cell_type": "code",
   "execution_count": 34,
   "metadata": {},
   "outputs": [],
   "source": [
    "# savez 压缩文件\n",
    "np.savez('two_array.npz', a=x,b=y)"
   ]
  },
  {
   "cell_type": "code",
   "execution_count": 36,
   "metadata": {},
   "outputs": [
    {
     "name": "stdout",
     "output_type": "stream",
     "text": [
      " 驱动器 C 中的卷没有标签。\n",
      " 卷的序列号是 3EE8-D32E\n",
      "\n",
      " C:\\Users\\jiangyanfei 的目录\n",
      "\n",
      "2018/11/20  17:23    <DIR>          .\n",
      "2018/11/20  17:23    <DIR>          ..\n",
      "2018/09/05  09:02    <DIR>          .android\n",
      "2018/07/19  15:18    <DIR>          .astropy\n",
      "2018/11/15  18:56             5,005 .bash_history\n",
      "2018/09/27  10:36    <DIR>          .config\n",
      "2018/08/01  11:07                53 .gitconfig\n",
      "2018/07/24  13:42    <DIR>          .idlerc\n",
      "2018/08/16  17:38    <DIR>          .IntelliJIdea2018.2\n",
      "2018/11/20  17:13    <DIR>          .ipynb_checkpoints\n",
      "2018/11/20  14:18    <DIR>          .ipython\n",
      "2018/11/20  17:17    <DIR>          .jupyter\n",
      "2018/07/18  09:47    <DIR>          .m2\n",
      "2018/07/23  14:13    <DIR>          .matplotlib\n",
      "2018/07/31  10:26    <DIR>          .mume\n",
      "2018/09/27  10:35                84 .node_repl_history\n",
      "2018/07/18  09:42    <DIR>          .oracle_jre_usage\n",
      "2018/07/26  10:26    <DIR>          .PyCharm2018.2\n",
      "2018/09/15  17:48    <DIR>          .pylint.d\n",
      "2018/07/25  08:54    <DIR>          .quokka\n",
      "2018/10/23  18:15    <DIR>          .ssh\n",
      "2018/11/01  16:45    <DIR>          .tooling\n",
      "2018/07/18  09:55    <DIR>          .vscode\n",
      "2018/10/23  18:28    <DIR>          .vue-templates\n",
      "2018/09/27  10:55    <DIR>          .WebStorm2018.2\n",
      "2018/11/16  08:43    <DIR>          3D Objects\n",
      "2018/07/19  13:13    <DIR>          Anaconda3\n",
      "2018/08/14  16:18    <DIR>          AppData\n",
      "2018/11/20  15:52             8,926 Array.ipynb\n",
      "2018/11/20  17:23             7,160 Array的input和output.ipynb\n",
      "2018/11/16  08:43    <DIR>          Contacts\n",
      "2018/11/20  11:51    <DIR>          Desktop\n",
      "2018/11/16  08:43    <DIR>          Documents\n",
      "2018/11/16  08:43    <DIR>          Downloads\n",
      "2018/11/16  08:43    <DIR>          Favorites\n",
      "2018/08/30  12:23            45,473 Figure_1-1.png\n",
      "2018/07/19  13:26            69,905 Figure_1.png\n",
      "2018/10/11  16:44    <DIR>          HBuilder\n",
      "2018/10/11  16:56    <DIR>          HBuilder settings\n",
      "2018/11/16  08:43    <DIR>          Links\n",
      "2018/11/16  08:43    <DIR>          Music\n",
      "2018/11/14  08:49    <DIR>          OneDrive\n",
      "2018/11/20  17:19               168 one_array.npy\n",
      "2018/11/16  08:43    <DIR>          Pictures\n",
      "2018/11/16  08:43    <DIR>          Saved Games\n",
      "2018/11/16  08:43    <DIR>          Searches\n",
      "2018/09/27  11:11    <DIR>          sell\n",
      "2018/10/16  11:14    <DIR>          todolist\n",
      "2018/11/20  17:23               570 two_array.npz\n",
      "2018/11/16  08:43    <DIR>          Videos\n",
      "2018/11/20  17:17               585 x.pkl\n",
      "2018/11/20  17:13            13,983 数组与矩阵计算.ipynb\n",
      "              11 个文件        151,912 字节\n",
      "              41 个目录 118,546,800,640 可用字节\n"
     ]
    }
   ],
   "source": [
    "!dir"
   ]
  },
  {
   "cell_type": "code",
   "execution_count": 37,
   "metadata": {},
   "outputs": [],
   "source": [
    "c = np.load('two_array.npz')"
   ]
  },
  {
   "cell_type": "code",
   "execution_count": 39,
   "metadata": {},
   "outputs": [
    {
     "data": {
      "text/plain": [
       "array([0, 1, 2, 3, 4, 5, 6, 7, 8, 9])"
      ]
     },
     "execution_count": 39,
     "metadata": {},
     "output_type": "execute_result"
    }
   ],
   "source": [
    "c['a']"
   ]
  },
  {
   "cell_type": "code",
   "execution_count": 40,
   "metadata": {},
   "outputs": [
    {
     "data": {
      "text/plain": [
       "array([ 0,  1,  2,  3,  4,  5,  6,  7,  8,  9, 10, 11, 12, 13, 14, 15, 16,\n",
       "       17, 18, 19])"
      ]
     },
     "execution_count": 40,
     "metadata": {},
     "output_type": "execute_result"
    }
   ],
   "source": [
    "c['b']"
   ]
  }
 ],
 "metadata": {
  "kernelspec": {
   "display_name": "Python 3",
   "language": "python",
   "name": "python3"
  },
  "language_info": {
   "codemirror_mode": {
    "name": "ipython",
    "version": 3
   },
   "file_extension": ".py",
   "mimetype": "text/x-python",
   "name": "python",
   "nbconvert_exporter": "python",
   "pygments_lexer": "ipython3",
   "version": "3.6.5"
  }
 },
 "nbformat": 4,
 "nbformat_minor": 2
}
